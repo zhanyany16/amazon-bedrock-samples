{
 "cells": [
  {
   "cell_type": "markdown",
   "metadata": {},
   "source": [
    "## Getting Started with Prompt Management and Flows for Amazon Bedrock\n",
    "\n",
    "This example shows you how to get started with Prompt Management and Prompt Flows in Amazon Bedrock.\n",
    "\n",
    "[Amazon Bedrock Prompt Management](https://docs.aws.amazon.com/bedrock/latest/userguide/prompt-management.html) streamlines the creation, evaluation, deployment, and sharing of prompts in the Amazon Bedrock console and via APIs in the SDK. This feature helps developers and business users obtain the best responses from foundation models for their specific use cases.\n",
    "\n",
    "[Amazon Bedrock Prompt Flows](https://docs.aws.amazon.com/bedrock/latest/userguide/flows.html) allows you to easily link multiple foundation models (FMs), prompts, and other AWS services, reducing development time and effort. It introduces a visual builder in the Amazon Bedrock console and a new set of APIs in the SDK, that simplifies the creation of complex generative AI workflows."
   ]
  },
  {
   "cell_type": "markdown",
   "metadata": {},
   "source": [
    "Let's start by making sure we have the lastest version of the Amazon Bedrock SDK, importing the libraries, and setting-up the client."
   ]
  },
  {
   "cell_type": "code",
   "execution_count": null,
   "metadata": {},
   "outputs": [],
   "source": [
    "# Only run this the first time...\n",
    "!pip3 install boto3 botocore -qU"
   ]
  },
  {
   "cell_type": "code",
   "execution_count": null,
   "metadata": {},
   "outputs": [],
   "source": [
    "import boto3\n",
    "from datetime import datetime\n",
    "import json"
   ]
  },
  {
   "cell_type": "markdown",
   "metadata": {},
   "source": [
    "Note the Prompt Management and Flows features are part of the Bedrock Agent SDK."
   ]
  },
  {
   "cell_type": "code",
   "execution_count": null,
   "metadata": {},
   "outputs": [],
   "source": [
    "bedrock_agent = boto3.client(service_name = \"bedrock-agent\", region_name = \"us-east-1\")"
   ]
  },
  {
   "cell_type": "markdown",
   "metadata": {},
   "source": [
    "## Prompt Management\n",
    "\n",
    "### Create and Manage Prompts\n",
    "\n",
    "Let's create a sample prompt, in this case for a simple translation task."
   ]
  },
  {
   "cell_type": "code",
   "execution_count": null,
   "metadata": {},
   "outputs": [],
   "source": [
    "response = bedrock_agent.create_prompt(\n",
    "    name = f\"MyTestPrompt-{datetime.now().strftime('%Y%m%d-%H%M%S')}\",\n",
    "    description = \"This is my test prompt for the customer service use case\",\n",
    "    variants = [\n",
    "        {\n",
    "            \"inferenceConfiguration\": {\n",
    "                \"text\": {\n",
    "                    \"maxTokens\": 3000,\n",
    "                    \"temperature\": 0,\n",
    "                    \"topP\": 0.999,\n",
    "                    \"topK\": 250,\n",
    "                }\n",
    "            },\n",
    "            \"modelId\": \"anthropic.claude-3-haiku-20240307-v1:0\",\n",
    "            \"name\": \"variant-001\",\n",
    "            \"templateConfiguration\": {\n",
    "                \"text\": {\n",
    "                    \"inputVariables\": [\n",
    "                        {\n",
    "                            \"name\": \"input\"\n",
    "                        }\n",
    "\n",
    "                    ],\n",
    "                    \"text\": \"You're a customer service agent for the ecommerce company Octank. Answer the following user query in a friendly and direct way: {{input}}\"\n",
    "                }\n",
    "            },\n",
    "            \"templateType\": \"TEXT\"\n",
    "        }\n",
    "    ],\n",
    "    defaultVariant = \"variant-001\"\n",
    ")\n",
    "print(json.dumps(response, indent=2, default=str))\n",
    "promptId = response[\"id\"]\n",
    "promptArn = response[\"arn\"]\n",
    "promptName = response[\"name\"]\n",
    "print(f\"Prompt ID: {promptId}\\nPrompt ARN: {promptArn}\\nPrompt Name: {promptName}\")"
   ]
  },
  {
   "cell_type": "markdown",
   "metadata": {},
   "source": [
    "Now that we have a draft prompt, we can create versions from it."
   ]
  },
  {
   "cell_type": "code",
   "execution_count": null,
   "metadata": {},
   "outputs": [],
   "source": [
    "response = bedrock_agent.create_prompt_version(\n",
    "    promptIdentifier = promptId\n",
    ")\n",
    "print(json.dumps(response, indent=2, default=str))"
   ]
  },
  {
   "cell_type": "markdown",
   "metadata": {},
   "source": [
    "Here we can see the list of prompts in our Prompt Library or catalog."
   ]
  },
  {
   "cell_type": "code",
   "execution_count": null,
   "metadata": {},
   "outputs": [],
   "source": [
    "response = bedrock_agent.list_prompts(\n",
    "    maxResults = 10\n",
    ")\n",
    "print(json.dumps(response[\"promptSummaries\"], indent=2, default=str))"
   ]
  },
  {
   "cell_type": "markdown",
   "metadata": {},
   "source": [
    "We can also read the details of any of our prompts."
   ]
  },
  {
   "cell_type": "code",
   "execution_count": null,
   "metadata": {},
   "outputs": [],
   "source": [
    "response = bedrock_agent.get_prompt(\n",
    "    promptIdentifier = promptId,\n",
    "    promptVersion = \"1\"\n",
    ")\n",
    "print(json.dumps(response, indent=2, default=str))"
   ]
  },
  {
   "cell_type": "markdown",
   "metadata": {},
   "source": [
    "-------"
   ]
  },
  {
   "cell_type": "markdown",
   "metadata": {},
   "source": [
    "## Prompt Flows\n",
    "\n",
    "Now that we've learned how to create and manage prompts, we can continue exploring how to build generative AI applications logic by creating workflows. For this, we'll rely on Prompt Flows for Amazon Bedrock.\n",
    "\n",
    "### Create and Manage Flows\n",
    "\n",
    "Let's create a simple flow that will load a prompt from our catalog. Note you can also create more complex flows involving chaining of steps, and conditions for dynamically routing, but let's keep it simple for now.\n",
    "\n",
    "***Pre-requisite: For using Flows you need to make sure you have the proper AWS IAM permissions in place. You can check details in the [How Prompt Flows for Amazon Bedrock works](https://docs.aws.amazon.com/bedrock/latest/userguide/flows-how-it-works.html) documentation.***"
   ]
  },
  {
   "cell_type": "code",
   "execution_count": null,
   "metadata": {},
   "outputs": [],
   "source": [
    "### REPLACE WITH YOUR AWS IAM ROLE WITH FLOWS FOR BEDROCK PERMISSIONS\n",
    "flow_role = [REPLACE_WITH_YOUR_ROLE_ARN]"
   ]
  },
  {
   "cell_type": "code",
   "execution_count": null,
   "metadata": {},
   "outputs": [],
   "source": [
    "response = bedrock_agent.create_flow(\n",
    "    name = f\"MyTestFlow-{datetime.now().strftime('%Y%m%d-%H%M%S')}\",\n",
    "    description = \"This is my test flow for the customer service use case\",\n",
    "    executionRoleArn = flow_role,\n",
    "    definition = {\n",
    "      \"nodes\": [\n",
    "          {\n",
    "              \"name\": \"StartNode\",\n",
    "              \"type\": \"Input\",\n",
    "              \"configuration\": {\n",
    "                  \"input\": {}\n",
    "              },\n",
    "              \"outputs\": [\n",
    "                  {\n",
    "                      \"name\": \"document\",\n",
    "                      \"type\": \"String\"\n",
    "                  }\n",
    "              ],\n",
    "          },\n",
    "          {\n",
    "            \"name\": \"Prompt_1\",\n",
    "            \"type\": \"Prompt\",\n",
    "            \"configuration\": {\n",
    "              \"prompt\": {\n",
    "                \"sourceConfiguration\": {\n",
    "                  \"resource\": {\n",
    "                      \"promptArn\": promptArn\n",
    "                  }\n",
    "                }\n",
    "              }\n",
    "            },\n",
    "            \"inputs\": [\n",
    "              {\n",
    "                \"expression\": \"$.data\",\n",
    "                \"name\": \"input\",\n",
    "                \"type\": \"String\"\n",
    "              }\n",
    "            ],\n",
    "            \"outputs\": [\n",
    "              {\n",
    "                \"name\": \"modelCompletion\",\n",
    "                \"type\": \"String\"\n",
    "              }\n",
    "            ],\n",
    "          },\n",
    "          {\n",
    "            \"name\": \"EndNode\",\n",
    "            \"type\": \"Output\",\n",
    "            \"configuration\": {\n",
    "                \"output\": {}\n",
    "            },\n",
    "            \"inputs\": [\n",
    "              {\n",
    "                \"expression\": \"$.data\",\n",
    "                \"name\": \"document\",\n",
    "                \"type\": \"String\"\n",
    "              }\n",
    "            ],\n",
    "          }\n",
    "      ],\n",
    "      \"connections\": [\n",
    "          {\n",
    "              \"name\": \"Connection_1\",\n",
    "              \"source\": \"StartNode\",\n",
    "              \"target\": \"Prompt_1\",\n",
    "              \"type\": \"Data\",\n",
    "              \"configuration\":{\n",
    "                  \"data\": {\n",
    "                      \"sourceOutput\": \"document\",\n",
    "                      \"targetInput\": \"input\"\n",
    "                  }\n",
    "              }\n",
    "          },\n",
    "          {\n",
    "              \"name\": \"Connection_2\",\n",
    "              \"source\": \"Prompt_1\",\n",
    "              \"target\": \"EndNode\",\n",
    "              \"type\": \"Data\",\n",
    "              \"configuration\": {\n",
    "                  \"data\": {\n",
    "                      \"sourceOutput\": \"modelCompletion\",\n",
    "                      \"targetInput\": \"document\"\n",
    "                  }\n",
    "              }\n",
    "          }\n",
    "      ],\n",
    "    }\n",
    ")\n",
    "print(json.dumps(response, indent=2, default=str))\n",
    "flowId = response[\"id\"]\n",
    "flowArn = response[\"arn\"]\n",
    "flowName = response[\"name\"]\n",
    "print(f\"Flow ID: {flowId}\\nFlow ARN: {flowArn}\\nFlow Name: {flowName}\")"
   ]
  },
  {
   "cell_type": "markdown",
   "metadata": {},
   "source": [
    "Now that we have our first flow, we can prepare it. This basically builds and validates our flow."
   ]
  },
  {
   "cell_type": "code",
   "execution_count": null,
   "metadata": {},
   "outputs": [],
   "source": [
    "response = bedrock_agent.prepare_flow(\n",
    "    flowIdentifier = flowId\n",
    ")\n",
    "print(json.dumps(response, indent=2, default=str))"
   ]
  },
  {
   "cell_type": "code",
   "execution_count": null,
   "metadata": {},
   "outputs": [],
   "source": [
    "response = bedrock_agent.get_flow(\n",
    "    flowIdentifier = flowId\n",
    ")\n",
    "print(json.dumps(response, indent=2, default=str))"
   ]
  },
  {
   "cell_type": "markdown",
   "metadata": {},
   "source": [
    "We can also list all the flows in our account."
   ]
  },
  {
   "cell_type": "code",
   "execution_count": null,
   "metadata": {},
   "outputs": [],
   "source": [
    "response = bedrock_agent.list_flows(\n",
    "    maxResults=10,\n",
    ")\n",
    "print(json.dumps(response[\"flowSummaries\"], indent=2, default=str))"
   ]
  },
  {
   "cell_type": "markdown",
   "metadata": {},
   "source": [
    "Let's create a version from our draft flow. Note flow versions are read-only, meaning these cannot be modified once created as they're intended for using in production. If you need to make changes to a flow you can update your draft."
   ]
  },
  {
   "cell_type": "code",
   "execution_count": null,
   "metadata": {},
   "outputs": [],
   "source": [
    "response = bedrock_agent.create_flow_version(\n",
    "    flowIdentifier = flowId\n",
    ")\n",
    "print(json.dumps(response, indent=2, default=str))"
   ]
  },
  {
   "cell_type": "markdown",
   "metadata": {},
   "source": [
    "We can also create flow alises, so that we can point our application front-ends and any other integrations to these. This allows creating new versions without impacting our service."
   ]
  },
  {
   "cell_type": "code",
   "execution_count": null,
   "metadata": {},
   "outputs": [],
   "source": [
    "response = bedrock_agent.create_flow_alias(\n",
    "    flowIdentifier = flowId,\n",
    "    name = flowName,\n",
    "    description = \"Alias for my test flow in the customer service use case\",\n",
    "    routingConfiguration = [\n",
    "        {\n",
    "            \"flowVersion\": \"1\"\n",
    "        }\n",
    "    ]\n",
    ")\n",
    "print(json.dumps(response, indent=2, default=str))\n",
    "flowAliasId = response['id']"
   ]
  },
  {
   "cell_type": "code",
   "execution_count": null,
   "metadata": {},
   "outputs": [],
   "source": [
    "import json\n",
    "response = bedrock_agent.list_flow_versions(\n",
    "    flowIdentifier = flowId,\n",
    "    maxResults = 10\n",
    ")\n",
    "print(json.dumps(response, indent=2, default=str))"
   ]
  },
  {
   "cell_type": "code",
   "execution_count": null,
   "metadata": {},
   "outputs": [],
   "source": [
    "response = bedrock_agent.get_flow_version(\n",
    "    flowIdentifier = flowId,\n",
    "    flowVersion = '1'\n",
    ")\n",
    "print(json.dumps(response, indent=2, default=str))"
   ]
  },
  {
   "cell_type": "markdown",
   "metadata": {},
   "source": [
    "We can also update a given alias assigned to a flow, for e.g. pointing to another version if required."
   ]
  },
  {
   "cell_type": "code",
   "execution_count": null,
   "metadata": {},
   "outputs": [],
   "source": [
    "response = bedrock_agent.update_flow_alias(\n",
    "    flowIdentifier = flowId,\n",
    "    aliasIdentifier = flowAliasId,\n",
    "    name = flowName,\n",
    "    routingConfiguration = [\n",
    "        {\n",
    "            \"flowVersion\": \"1\"\n",
    "        }\n",
    "    ]\n",
    ")\n",
    "flowAliasId = response[\"id\"]\n",
    "print(json.dumps(response, indent=2, default=str))"
   ]
  },
  {
   "cell_type": "code",
   "execution_count": null,
   "metadata": {},
   "outputs": [],
   "source": [
    "response = bedrock_agent.get_flow_alias(\n",
    "    flowIdentifier = flowId,\n",
    "    aliasIdentifier = flowAliasId\n",
    ")\n",
    "print(json.dumps(response, indent=2, default=str))"
   ]
  },
  {
   "cell_type": "markdown",
   "metadata": {},
   "source": [
    "### Invoke a Flow\n",
    "\n",
    "Now that we have learned how to create and manage flows, we can test these with invocations.\n",
    "\n",
    "Note for this we'll rely on the Bedrock Agent Runtime SDK.\n",
    "\n",
    "You can invoke flows from any application front-end or your own systems as required. It effectively exposes all the logic of your flow through an Agent Endpoint API."
   ]
  },
  {
   "cell_type": "code",
   "execution_count": null,
   "metadata": {},
   "outputs": [],
   "source": [
    "bedrock_agent_runtime = boto3.client(service_name = 'bedrock-agent-runtime', region_name = 'us-east-1')"
   ]
  },
  {
   "cell_type": "code",
   "execution_count": null,
   "metadata": {},
   "outputs": [],
   "source": [
    "response = bedrock_agent_runtime.invoke_flow(\n",
    "    flowIdentifier = flowId,\n",
    "    flowAliasIdentifier = flowAliasId,\n",
    "    inputs = [\n",
    "        { \n",
    "            \"content\": { \n",
    "                \"document\": \"Hi, I need help with my order!\"\n",
    "            },\n",
    "            \"nodeName\": \"StartNode\",\n",
    "            \"nodeOutputName\": \"document\"\n",
    "        }\n",
    "    ]\n",
    ")\n",
    "event_stream = response[\"responseStream\"]\n",
    "for event in event_stream:\n",
    "    print(json.dumps(event, indent=2, ensure_ascii=False))"
   ]
  },
  {
   "cell_type": "markdown",
   "metadata": {},
   "source": [
    "---\n",
    "\n",
    "### Cleaning-up Resources (optional)\n",
    "\n",
    "Before leaving, here's how to delete the resources that we've created."
   ]
  },
  {
   "cell_type": "code",
   "execution_count": null,
   "metadata": {},
   "outputs": [],
   "source": [
    "response = bedrock_agent.delete_flow_alias(\n",
    "    flowIdentifier = flowId,\n",
    "    aliasIdentifier = flowAliasId\n",
    ")\n",
    "print(json.dumps(response, indent=2, default=str))"
   ]
  },
  {
   "cell_type": "code",
   "execution_count": null,
   "metadata": {},
   "outputs": [],
   "source": [
    "response = bedrock_agent.delete_flow_version(\n",
    "    flowIdentifier = flowId,\n",
    "    flowVersion = '1'\n",
    ")\n",
    "print(json.dumps(response, indent=2, default=str))"
   ]
  },
  {
   "cell_type": "code",
   "execution_count": null,
   "metadata": {},
   "outputs": [],
   "source": [
    "response = bedrock_agent.delete_flow(\n",
    "    flowIdentifier = flowId\n",
    ")\n",
    "print(json.dumps(response, indent=2, default=str))"
   ]
  },
  {
   "cell_type": "code",
   "execution_count": null,
   "metadata": {},
   "outputs": [],
   "source": [
    "response = bedrock_agent.delete_prompt(\n",
    "    promptIdentifier = promptId\n",
    ")\n",
    "print(json.dumps(response, indent=2, default=str))"
   ]
  },
  {
   "cell_type": "markdown",
   "metadata": {},
   "source": [
    "-------"
   ]
  }
 ],
 "metadata": {
  "kernelspec": {
   "display_name": "Python 3",
   "language": "python",
   "name": "python3"
  },
  "language_info": {
   "codemirror_mode": {
    "name": "ipython",
    "version": 3
   },
   "file_extension": ".py",
   "mimetype": "text/x-python",
   "name": "python",
   "nbconvert_exporter": "python",
   "pygments_lexer": "ipython3",
   "version": "3.12.3"
  }
 },
 "nbformat": 4,
 "nbformat_minor": 2
}
